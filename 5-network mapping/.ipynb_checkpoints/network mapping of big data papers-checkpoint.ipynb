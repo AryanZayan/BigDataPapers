{
 "cells": [
  {
   "cell_type": "markdown",
   "metadata": {},
   "source": [
    "# network mapping of terms used together with big data"
   ]
  },
  {
   "cell_type": "markdown",
   "metadata": {},
   "source": [
    "## parameter"
   ]
  },
  {
   "cell_type": "code",
   "execution_count": null,
   "metadata": {
    "collapsed": true
   },
   "outputs": [],
   "source": [
    "searchterm=\"big data\" #lowecase!"
   ]
  },
  {
   "cell_type": "markdown",
   "metadata": {},
   "source": [
    "## imports"
   ]
  },
  {
   "cell_type": "code",
   "execution_count": null,
   "metadata": {
    "collapsed": true
   },
   "outputs": [],
   "source": [
    "import cx_Oracle #ensure that OS, InstantClient (Basic, ODBC, SDK) and cx_Oracle are all 64 bit. Install with \"pip install cx_Oracle\". Add link to InstantClient in Path variable!\n",
    "import pandas as pd\n",
    "import re\n",
    "import networkx as nx"
   ]
  },
  {
   "cell_type": "markdown",
   "metadata": {},
   "source": [
    "## db connection"
   ]
  },
  {
   "cell_type": "code",
   "execution_count": null,
   "metadata": {
    "collapsed": true
   },
   "outputs": [],
   "source": [
    "dsn_tns=cx_Oracle.makedsn('127.0.0.1','6025',service_name='bibliodb01.fiz.karlsruhe')\n",
    " #open connection:\n",
    "db=cx_Oracle.connect(<username>, <password>, dsn_tns)\n",
    "print(db.version)"
   ]
  },
  {
   "cell_type": "markdown",
   "metadata": {},
   "source": [
    "## functions"
   ]
  },
  {
   "cell_type": "code",
   "execution_count": null,
   "metadata": {
    "collapsed": true
   },
   "outputs": [],
   "source": [
    "#%% functions:\n",
    "def read_query(connection, query):\n",
    "    cursor = connection.cursor()\n",
    "    try:\n",
    "        cursor.execute( query )\n",
    "        names = [ x[0] for x in cursor.description]\n",
    "        rows = cursor.fetchall()\n",
    "        return pd.DataFrame( rows, columns=names)\n",
    "    finally:\n",
    "        if cursor is not None:\n",
    "            cursor.close()\n",
    "            \n",
    "def add_word_to_dict_and_get_id(word,nodes,nodeid):\n",
    "    if word in nodes.keys():\n",
    "        myid=nodes[word]\n",
    "    else:\n",
    "        G.add_node(nodeid, text=word)\n",
    "        nodes[word]=nodeid      \n",
    "        nodeid=nodeid+1\n",
    "        myid=nodes[word]\n",
    "    return myid,nodeid\n",
    "    \n",
    "def add_edge_and_increase_weight(id1,id2,edgeid):\n",
    "    #make searchids in both directions:\n",
    "    edgeid1=str(id1)+'-'+str(id2)\n",
    "    edgeid2=str(id2)+'-'+str(id1)\n",
    "    if edgeid1 in edges.keys():\n",
    "        #add weight +1:\n",
    "        G[id1][id2]['weight']=G[id1][id2]['weight']+1\n",
    "    elif edgeid2 in edges.keys():\n",
    "        G[id2][id1]['weight']=G[id2][id1]['weight']+1\n",
    "    else: #both combinations do not exist yet -> create new:\n",
    "        G.add_edge(id1,id2,weight=1)\n",
    "        edges[edgeid1]=1\n",
    "        edgeid=edgeid+1\n",
    "    return edgeid\n"
   ]
  },
  {
   "cell_type": "markdown",
   "metadata": {},
   "source": [
    "## load data"
   ]
  },
  {
   "cell_type": "code",
   "execution_count": null,
   "metadata": {
    "collapsed": true
   },
   "outputs": [],
   "source": [
    "#%% load paper titles from WOSdb:\n",
    "database=\"wos12b\"          \n",
    "            \n",
    "command=\"\"\"SELECT DISTINCT(ARTICLE_TITLE)  \n",
    " FROM \"\"\"+database+\"\"\".KEYWORDS, \"\"\"+database+\"\"\".ITEMS_KEYWORDS, \"\"\"+database+\"\"\".ITEMS \n",
    " WHERE\n",
    " \"\"\"+database+\"\"\".ITEMS_KEYWORDS.FK_KEYWORDS=\"\"\"+database+\"\"\".KEYWORDS.PK_KEYWORDS\n",
    " AND \"\"\"+database+\"\"\".ITEMS.PK_ITEMS=\"\"\"+database+\"\"\".ITEMS_KEYWORDS.FK_ITEMS  \n",
    " AND (lower(\"\"\"+database+\"\"\".KEYWORDS.KEYWORD) LIKE '%\"\"\"+searchterm+\"\"\"%' OR lower(ARTICLE_TITLE) LIKE '%\"\"\"+searchterm+\"\"\"%')\n",
    "\"\"\"\n",
    "\n",
    "dfWOS=read_query(db,command)\n",
    "dfWOS.to_csv(\"all_big_data_titles_wos.csv\", sep=';')\n",
    "\n",
    "#%% load paper titles from SCOPUSdb:\n",
    "database=\"SCOPUS20b\"            \n",
    "            \n",
    "command=\"\"\"SELECT DISTINCT(ARTICLE_TITLE)  \n",
    " FROM \"\"\"+database+\"\"\".KEYWORDS, \"\"\"+database+\"\"\".ITEMS_KEYWORDS, \"\"\"+database+\"\"\".ITEMS \n",
    " WHERE\n",
    " \"\"\"+database+\"\"\".ITEMS_KEYWORDS.FK_KEYWORDS=\"\"\"+database+\"\"\".KEYWORDS.PK_KEYWORDS\n",
    " AND \"\"\"+database+\"\"\".ITEMS.PK_ITEMS=\"\"\"+database+\"\"\".ITEMS_KEYWORDS.FK_ITEMS  \n",
    " AND (lower(\"\"\"+database+\"\"\".KEYWORDS.KEYWORD) LIKE '%\"\"\"+searchterm+\"\"\"%' OR lower(ARTICLE_TITLE) LIKE '%\"\"\"+searchterm+\"\"\"%')\n",
    "\"\"\"\n",
    "\n",
    "dfSCOPUS=read_query(db,command)\n",
    "dfSCOPUS.to_csv(\"all_big_data_titles_scopus.csv\", sep=';')\n",
    "\n",
    "#%% join both dataframes:\n",
    "df=pd.merge(dfWOS,dfSCOPUS,on='ARTICLE_TITLE',how='outer') #130 identical titles\n",
    "df.to_csv(\"all_big_data_titles.csv\", sep=';')\n"
   ]
  },
  {
   "cell_type": "markdown",
   "metadata": {},
   "source": [
    "## define stopwords \n",
    "they are excluded in the connection process"
   ]
  },
  {
   "cell_type": "code",
   "execution_count": null,
   "metadata": {
    "collapsed": true
   },
   "outputs": [],
   "source": [
    "stopwords=['case','study','new','s','real','multi','use','2013','age','e','novel','control','level','high','using','challenges','networks','application','applications','approach','based','a', 'able', 'about', 'above', 'according', 'accordingly', 'across', 'actually', 'after', 'afterwards', 'again', 'against', 'ain’t', 'all', 'allow', 'allows', 'almost', 'alone', 'along', 'already', 'also', 'although', 'always', 'am', 'among', 'amongst', 'an', 'and', 'another', 'any', 'anybody', 'anyhow', 'anyone', 'anything', 'anyway', 'anyways', 'anywhere', 'apart', 'appear', 'appreciate', 'appropriate', 'are', 'aren’t', 'around', 'as', 'aside', 'ask', 'asking', 'associated', 'at', 'available', 'away', 'awfully', 'be', 'became', 'because', 'become', 'becomes', 'becoming', 'been', 'before', 'beforehand', 'behind', 'being', 'believe', 'below', 'beside', 'besides', 'best', 'better', 'between', 'beyond', 'both', 'brief', 'but', 'by', 'c’mon', 'c', 'came', 'can', 'can’t', 'cannot', 'cant', 'cause', 'causes', 'certain', 'certainly', 'changes', 'clearly', 'co', 'com', 'come', 'comes', 'concerning', 'consequently', 'consider', 'considering', 'contain', 'containing', 'contains', 'corresponding', 'could', 'couldn’t', 'course', 'currently', 'definitely', 'described', 'despite', 'did', 'didn’t', 'different', 'do', 'does', 'doesn’t', 'doing', 'don’t', 'done', 'down', 'downwards', 'during', 'each', 'edu', 'eg', 'eight', 'either', 'else', 'elsewhere', 'enough', 'entirely', 'especially', 'et', 'etc', 'even', 'ever', 'every', 'everybody', 'everyone', 'everything', 'everywhere', 'ex', 'exactly', 'example', 'except', 'far', 'few', 'fifth', 'first', 'five', 'followed', 'following', 'follows', 'for', 'former', 'formerly', 'forth', 'four', 'from', 'further', 'furthermore', 'get', 'gets', 'getting', 'given', 'gives', 'go', 'goes', 'going', 'gone', 'got', 'gotten', 'greetings', 'had', 'hadn’t', 'happens', 'hardly', 'has', 'hasn’t', 'have', 'haven’t', 'having', 'he', 'he’s', 'hello', 'help', 'hence', 'her', 'here', 'here’s', 'hereafter', 'hereby', 'herein', 'hereupon', 'hers', 'herself', 'hi', 'him', 'himself', 'his', 'hither', 'hopefully', 'how', 'howbeit', 'however', 'i’d', 'i’ll', 'i’m', 'i’ve', 'ie', 'if', 'ignored', 'immediate', 'in', 'inasmuch', 'inc', 'indeed', 'indicate', 'indicated', 'indicates', 'inner', 'insofar', 'instead', 'into', 'inward', 'is', 'isn’t', 'it', 'it’d', 'it’ll', 'it’s', 'its', 'itself', 'just', 'keep', 'keeps', 'kept', 'know', 'knows', 'known', 'last', 'lately', 'later', 'latter', 'latterly', 'least', 'less', 'lest', 'let', 'let’s', 'like', 'liked', 'likely', 'little', 'look', 'looking', 'looks', 'ltd', 'mainly', 'many', 'may', 'maybe', 'me', 'mean', 'meanwhile', 'merely', 'might', 'more', 'moreover', 'most', 'mostly', 'much', 'must', 'my', 'myself', 'name', 'namely', 'nd', 'near', 'nearly', 'necessary', 'need', 'needs', 'neither', 'never', 'nevertheless', 'new', 'next', 'nine', 'no', 'nobody', 'non', 'none', 'noone', 'nor', 'normally', 'not', 'nothing', 'novel', 'now', 'nowhere', 'obviously', 'of', 'off', 'often', 'oh', 'ok', 'okay', 'old', 'on', 'once', 'one', 'ones', 'only', 'onto', 'or', 'other', 'others', 'otherwise', 'ought', 'our', 'ours', 'ourselves', 'out', 'outside', 'over', 'overall', 'own', 'particular', 'particularly', 'per', 'perhaps', 'placed', 'please', 'plus', 'possible', 'presumably', 'probably', 'provides', 'que', 'quite', 'qv', 'rather', 'rd', 're', 'really', 'reasonably', 'regarding', 'regardless', 'regards', 'relatively', 'respectively', 'right', 'said', 'same', 'saw', 'say', 'saying', 'says', 'second', 'secondly', 'see', 'seeing', 'seem', 'seemed', 'seeming', 'seems', 'seen', 'self', 'selves', 'sensible', 'sent', 'serious', 'seriously', 'seven', 'several', 'shall', 'she', 'should', 'shouldn’t', 'since', 'six', 'so', 'some', 'somebody', 'somehow', 'someone', 'something', 'sometime', 'sometimes', 'somewhat', 'somewhere', 'soon', 'sorry', 'specified', 'specify', 'specifying', 'still', 'sub', 'such', 'sup', 'sure', 't’s', 'take', 'taken', 'tell', 'tends', 'th', 'than', 'thank', 'thanks', 'thanx', 'that', 'that’s', 'thats', 'the', 'their', 'theirs', 'them', 'themselves', 'then', 'thence', 'there', 'there’s', 'thereafter', 'thereby', 'therefore', 'therein', 'theres', 'thereupon', 'these', 'they', 'they’d', 'they’ll', 'they’re', 'they’ve', 'think', 'third', 'this', 'thorough', 'thoroughly', 'those', 'though', 'three', 'through', 'throughout', 'thru', 'thus', 'to', 'together', 'too', 'took', 'toward', 'towards', 'tried', 'tries', 'truly', 'try', 'trying', 'twice', 'two', 'un', 'under', 'unfortunately', 'unless', 'unlikely', 'until', 'unto', 'up', 'upon', 'us', 'use', 'used', 'useful', 'uses', 'using', 'usually', 'value', 'various', 'very', 'via', 'viz', 'vs', 'want', 'wants', 'was', 'wasn’t', 'way', 'we', 'we’d', 'we’ll', 'we’re', 'we’ve', 'welcome', 'well', 'went', 'were', 'weren’t', 'what', 'what’s', 'whatever', 'when', 'whence', 'whenever', 'where', 'where’s', 'whereafter', 'whereas', 'whereby', 'wherein', 'whereupon', 'wherever', 'whether', 'which', 'while', 'whither', 'who', 'who’s', 'whoever', 'whole', 'whom', 'whose', 'why', 'will', 'willing', 'wish', 'with', 'within', 'without', 'won’t', 'wonder', 'would', 'would', 'wouldn’t', 'yes', 'yet', 'you', 'you’d', 'you’ll', 'you’re', 'you’ve', 'your', 'yours', 'yourself', 'yourselves', 'zero']\n"
   ]
  },
  {
   "cell_type": "markdown",
   "metadata": {},
   "source": [
    "## defining nodes and edges"
   ]
  },
  {
   "cell_type": "code",
   "execution_count": null,
   "metadata": {
    "collapsed": true
   },
   "outputs": [],
   "source": [
    "\n",
    "\n",
    "nodes = {}\n",
    "edges= {}\n",
    "G=nx.Graph()\n",
    "nodeid=1\n",
    "edgeid=1\n",
    "for title in df['ARTICLE_TITLE']:\n",
    "    #for each title, create and empty list of words/nodes that have been visited \n",
    "    #in this title already to prevent higher edge counts through double visit:\n",
    "    visited_words_in_this_title=[]\n",
    "    wordList = re.sub(\"[^\\w]\", \" \",  title).split()\n",
    "    for word in wordList:\n",
    "        word=word.lower()\n",
    "        if not word in stopwords:\n",
    "            visited_words_in_this_title.append(word)\n",
    "            #before adding node, check if it already exists: \n",
    "            myid,nodeid=add_word_to_dict_and_get_id(word,nodes,nodeid)\n",
    "            #now we know that the present word is in the dict and have the right ID\n",
    "            #loop through all other words in the same title (wordlist):\n",
    "            for word2 in wordList:\n",
    "                word2=word2.lower()\n",
    "                if not word2 in stopwords:\n",
    "                    if (word2!=word) & (not word2 in visited_words_in_this_title):\n",
    "                        id2,nodeid=add_word_to_dict_and_get_id(word2,nodes,nodeid)    \n",
    "                        #now both nodes are in the dict and we have both ids\n",
    "                        #check if edge already exists:\n",
    "                        edgeid=add_edge_and_increase_weight(myid,id2,edgeid)\n",
    "                        \n",
    "SG=nx.Graph( [ (u,v,d) for u,v,d in G.edges(data=True) if d\n",
    "['weight']>1] )"
   ]
  },
  {
   "cell_type": "markdown",
   "metadata": {},
   "source": [
    "## write to graphML for further processing and visualization in Gephi / Cytoscape"
   ]
  },
  {
   "cell_type": "code",
   "execution_count": null,
   "metadata": {
    "collapsed": true
   },
   "outputs": [],
   "source": [
    "nx.write_graphml(G,\"D:\\\\Dropbox\\\\Arbeit\\\\Keyword-Analysis\\\\BigData.graphml\")                \n",
    "nx.write_graphml(SG,\"D:\\\\Dropbox\\\\Arbeit\\\\Keyword-Analysis\\\\BigData_SG.graphml\")"
   ]
  }
 ],
 "metadata": {
  "kernelspec": {
   "display_name": "Python [Root]",
   "language": "python",
   "name": "Python [Root]"
  },
  "language_info": {
   "codemirror_mode": {
    "name": "ipython",
    "version": 3
   },
   "file_extension": ".py",
   "mimetype": "text/x-python",
   "name": "python",
   "nbconvert_exporter": "python",
   "pygments_lexer": "ipython3",
   "version": "3.5.2"
  }
 },
 "nbformat": 4,
 "nbformat_minor": 0
}
